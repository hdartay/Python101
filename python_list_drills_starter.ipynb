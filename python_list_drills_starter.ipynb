{
  "nbformat": 4,
  "nbformat_minor": 0,
  "metadata": {
    "kernelspec": {
      "display_name": "Python 3",
      "language": "python",
      "name": "python3"
    },
    "language_info": {
      "codemirror_mode": {
        "name": "ipython",
        "version": 3
      },
      "file_extension": ".py",
      "mimetype": "text/x-python",
      "name": "python",
      "nbconvert_exporter": "python",
      "pygments_lexer": "ipython3",
      "version": "3.7.0"
    },
    "colab": {
      "name": "python_list_drills_starter.ipynb",
      "provenance": [],
      "include_colab_link": true
    }
  },
  "cells": [
    {
      "cell_type": "markdown",
      "metadata": {
        "id": "view-in-github",
        "colab_type": "text"
      },
      "source": [
        "<a href=\"https://colab.research.google.com/github/hdartay/Python101/blob/master/python_list_drills_starter.ipynb\" target=\"_parent\"><img src=\"https://colab.research.google.com/assets/colab-badge.svg\" alt=\"Open In Colab\"/></a>"
      ]
    },
    {
      "cell_type": "markdown",
      "metadata": {
        "id": "zyc1jjhu_o1g",
        "colab_type": "text"
      },
      "source": [
        "## 1: `longest_word_length`\n",
        "\n",
        "Create a function called `longest_word` that takes one argument, a list of words, and returns the length of the longest word in the list.\n",
        "\n",
        "For example, `longest_word(['simple', 'is', 'better', 'than', 'complex'])` should return 7 because the longest word there is complex, at 7 characters.\n",
        "\n",
        "Your function should *not* modify the input list."
      ]
    },
    {
      "cell_type": "code",
      "metadata": {
        "id": "HjyTyLtW_o1h",
        "colab_type": "code",
        "colab": {
          "base_uri": "https://localhost:8080/",
          "height": 34
        },
        "outputId": "d8825796-0146-43ef-cd29-00642c1286fb"
      },
      "source": [
        "# your code here\n",
        "words=['simple', 'is', 'better', 'than', 'complex',\"deadline\",\"thisisthelongest18\",\"hello\"]\n",
        "htm=[\"fj\"]\n",
        "def longest_word(word):\n",
        "  n=0\n",
        "  for x in word:  \n",
        "    if n<len(x):\n",
        "      n=len(x)\n",
        "  return n\n",
        "\n",
        "    \n",
        "\n",
        "print(longest_word(words))"
      ],
      "execution_count": 3,
      "outputs": [
        {
          "output_type": "stream",
          "text": [
            "18\n"
          ],
          "name": "stdout"
        }
      ]
    },
    {
      "cell_type": "markdown",
      "metadata": {
        "id": "Z1FeaE17_o1n",
        "colab_type": "text"
      },
      "source": [
        "## 2: `calculate_grade`\n",
        "\n",
        "You're a statistics professor and the deadline for submitting your students' grades is tonight at midnight. Each student's grade is determined by their mean score across all of the tests they took this semester.\n",
        "\n",
        "You've decided to automate grade calculation by writing a function `calculate_grade` that takes a list of test scores as an argument and returns a one character string representing the student's grade calculated as follows:\n",
        "\n",
        "```\n",
        "90% <= mean score <= 100%: \"A\",\n",
        "80% <= mean score < 90%: \"B\",\n",
        "70% <= mean score < 80%: \"C\",\n",
        "60% <= mean score < 70%: \"D\",\n",
        "mean score < 60%: \"F\"\n",
        "```\n",
        "\n",
        "\n",
        "For example, `calculate_grade([92, 94, 99])` would return \"A\" since the mean score is 95, and `calculate_grade([50, 60, 70, 80, 90])` would return \"C\" since the mean score is 70.\n",
        "\n",
        "Your function should handle an input list of any length greater than zero."
      ]
    },
    {
      "cell_type": "code",
      "metadata": {
        "id": "nET-NvYC_o1o",
        "colab_type": "code",
        "colab": {
          "base_uri": "https://localhost:8080/",
          "height": 85
        },
        "outputId": "231c5cf0-d427-4d71-b928-c1fe43c36de0"
      },
      "source": [
        "# your code here\n",
        "grades=[95,0,97]\n",
        "def calculate_grade(grade):\n",
        "  \n",
        "    avarage_grade= round(sum(grade)/len(grade),2)\n",
        "\n",
        "    if avarage_grade >= 90 and avarage_grade <=100:\n",
        "     print(\"Your avarage grade is {}, and You passed with A\".format(avarage_grade))\n",
        "    elif avarage_grade < 90 and avarage_grade >=80:\n",
        "     print(\"Your avarage grade is {}, and You passed with B\".format(avarage_grade))\n",
        "    elif avarage_grade < 80 and avarage_grade >= 70:\n",
        "     print(\"Your avarage grade is {}, and You passed with C\".format(avarage_grade))\n",
        "    elif avarage_grade < 70 and avarage_grade >= 60:\n",
        "     print(\"Your avarage grade is {}, and You passed with D\".format(avarage_grade))\n",
        "    elif avarage_grade < 60:\n",
        "     print(\"Your avarage grade is {}, and You Failed with F\".format(avarage_grade))\n",
        "    else:\n",
        "       print(\"Out of range \",avarage_grade)\n",
        "    \n",
        "      \n",
        "print(calculate_grade(grades))\n",
        "print(calculate_grade([76,46,64,43,2293]))"
      ],
      "execution_count": 40,
      "outputs": [
        {
          "output_type": "stream",
          "text": [
            "Your avarage grade is 64.0, and You passed with D\n",
            "None\n",
            "Out of range  504.4\n",
            "None\n"
          ],
          "name": "stdout"
        }
      ]
    },
    {
      "cell_type": "markdown",
      "metadata": {
        "id": "upCsKZtS_o1s",
        "colab_type": "text"
      },
      "source": [
        "## 3: `process_data`\n",
        "\n",
        "You have a two-dimensional list in the following format:\n",
        "\n",
        "```python\n",
        "data = [[2, 5], [3, 4], [8, 7]]\n",
        "```\n",
        "\n",
        "Each sub-list contains two items, and each item in the sub-lists is an integer.\n",
        "\n",
        "Write a function `process_data` that processes each sub-list like so:\n",
        "\n",
        "```\n",
        "[2, 5] --> 2 - 5 --> -3\n",
        "[3, 4] --> 3 - 4 --> -1\n",
        "[8, 7] --> 8 - 7 --> 1\n",
        "```\n",
        "\n",
        "and then returns the product of all the processed sub-lists: -3 * -1 * 1 --> 3.\n",
        "d\n",
        "For input, you can trust that neither the main list nor the sublists will be empty."
      ]
    },
    {
      "cell_type": "markdown",
      "metadata": {
        "id": "s8YLJh_npcbO",
        "colab_type": "text"
      },
      "source": [
        ""
      ]
    },
    {
      "cell_type": "code",
      "metadata": {
        "id": "GKgC9bv5_o1t",
        "colab_type": "code",
        "colab": {
          "base_uri": "https://localhost:8080/",
          "height": 34
        },
        "outputId": "80d5e707-910b-4399-d3b5-78c52b9f3d21"
      },
      "source": [
        "# your code here\n",
        "\n",
        "data = [[2, 5], [3, 4], [8, 7]]\n",
        "def process_data(list):\n",
        "  diff=1\n",
        "  for i in list:\n",
        "    diff = (i[0] -i[1])*diff\n",
        "    \n",
        "    \n",
        "    \n",
        "  return diff\n",
        "print(process_data(data))\n",
        "\n",
        "\n"
      ],
      "execution_count": 84,
      "outputs": [
        {
          "output_type": "stream",
          "text": [
            "3\n"
          ],
          "name": "stdout"
        }
      ]
    },
    {
      "cell_type": "code",
      "metadata": {
        "id": "VCgqE7rw1wLl",
        "colab_type": "code",
        "colab": {}
      },
      "source": [
        ""
      ],
      "execution_count": 0,
      "outputs": []
    }
  ]
}